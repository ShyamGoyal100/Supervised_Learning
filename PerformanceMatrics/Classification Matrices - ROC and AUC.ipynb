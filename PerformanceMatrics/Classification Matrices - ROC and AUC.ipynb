{
 "cells": [
  {
   "cell_type": "markdown",
   "id": "6fc31457",
   "metadata": {},
   "source": [
    "# **Unsupervised Machine Learning Performance Metrics**"
   ]
  },
  {
   "cell_type": "markdown",
   "id": "401fa58e",
   "metadata": {},
   "source": [
    "Classification accuracy is the number of correct predictions made as a ratio of all predictions made. This is the most common evaluation metric for classification problems, it is also the most misused. It is really only suitable when there are an equal number of observations in each class (which is rarely the case) and that all predictions and prediction errors are equally important, which is often not the case. Below is an example of calculating classification accuracy."
   ]
  },
  {
   "cell_type": "markdown",
   "id": "2ddafe5a",
   "metadata": {},
   "source": [
    "Classification Metrics:\n",
    "\n",
    "Classification Accuracy\n",
    "\n",
    "Confusion Matrix.\n",
    "\n",
    "Classification Report.\n",
    "\n",
    "Area Under the Curve (AUC) and ROC Curve."
   ]
  },
  {
   "cell_type": "code",
   "execution_count": 19,
   "id": "f388551e",
   "metadata": {},
   "outputs": [],
   "source": [
    "from numpy import mean\n",
    "from numpy import std\n",
    "import pandas as pd\n",
    "from sklearn. datasets import make_classification\n",
    "from sklearn.model_selection import KFold\n",
    "from sklearn.model_selection import cross_val_score\n",
    "from sklearn.linear_model import LogisticRegression"
   ]
  },
  {
   "cell_type": "code",
   "execution_count": 25,
   "id": "f820f8d2",
   "metadata": {},
   "outputs": [],
   "source": [
    "# Create Dataset\n",
    "X,y = make_classification(n_samples=100, n_features=20,n_informative=15, n_redundant=5, random_state=1)\n",
    "\n",
    "# Prepare the cross-validation procedure\n",
    "cv = KFold(n_splits=10, random_state=1, shuffle=True)\n",
    "\n",
    "# Create Model\n",
    "model = LogisticRegression()\n",
    "\n",
    "# Evaluate Model\n",
    "scores = cross_val_score(model,X,y,scoring='accuracy', cv=cv,n_jobs=-1)\n"
   ]
  },
  {
   "cell_type": "code",
   "execution_count": 26,
   "id": "f93994f1",
   "metadata": {},
   "outputs": [
    {
     "name": "stdout",
     "output_type": "stream",
     "text": [
      "Accuracy: 85.0%\n"
     ]
    }
   ],
   "source": [
    "# Classification Accuracy\n",
    "\n",
    "# Report Perfromance\n",
    "print('Accuracy: {}%'.format(mean(scores)*100))"
   ]
  },
  {
   "cell_type": "markdown",
   "id": "300d32e2",
   "metadata": {},
   "source": [
    "## Confusion Metrix"
   ]
  },
  {
   "cell_type": "markdown",
   "id": "b7b6f153",
   "metadata": {},
   "source": [
    "A Confusion metrix is a matrix of four(4) blocks which reflects the performance of our machin learning models\n",
    "\n",
    "The four terms used in confusion metrix are:\n",
    "    \n",
    "    - True Positive(TP)\n",
    "    \n",
    "    - False Positive(FP)\n",
    "    \n",
    "    - True Negative(TN)\n",
    "    \n",
    "    - False Negative(FN)"
   ]
  },
  {
   "cell_type": "markdown",
   "id": "50c5a7c6",
   "metadata": {},
   "source": [
    "## Classification Report"
   ]
  },
  {
   "cell_type": "code",
   "execution_count": null,
   "id": "367c3e21",
   "metadata": {},
   "outputs": [],
   "source": [
    "Accuracy - Accuracy is one metrics for evaluating classification models, Infromally, accuray is the fraction of \n",
    "predictions our model got right. Formally, accuracy has the following definition:\n",
    "    \n",
    "    Accuracy = Number of correct predictions/Total number of predictions\n",
    "    \n",
    "Fro binary classification, accuracy can also be calcualted in terms of positive and negative as follows:\n",
    "    \n",
    "    Accuracy = (TP+TN)/(TP+TN+FP+FN)\n",
    "    \n",
    "Precision - What proportion of positive identifications are actually correct..\n",
    "\n",
    "    Precision = TP/(TP+FP)\n",
    "    Statement - Our model has a precision of 0.5. In other words, when it predicts a tumor is Malignant, it is \n",
    "    correct 50% of the time \n",
    "    \n",
    "Recall - What porportion of actual positives was identified correctly..\n",
    "\n",
    "    Recall - TP/(TP+FN)\n",
    "    Statement - Our model has a recall of 0.11. In other words, it correctly identifies 11% of all Malignant tumor.\n",
    "\n",
    "F1 Score - 2*((precision* Recall)/(precision + recall))\n",
    "    \n",
    "    \n",
    "    \n",
    "    "
   ]
  },
  {
   "cell_type": "markdown",
   "id": "d360fddc",
   "metadata": {},
   "source": [
    "### Hands-On AUC and ROC"
   ]
  },
  {
   "cell_type": "code",
   "execution_count": 44,
   "id": "fbcc32cf",
   "metadata": {},
   "outputs": [],
   "source": [
    "from pandas import read_csv\n",
    "from sklearn.model_selection import train_test_split\n",
    "from sklearn.linear_model import LogisticRegression\n",
    "import numpy as np\n",
    "\n",
    "import pylab as pl\n",
    "from sklearn import svm\n",
    "from sklearn.utils import shuffle\n",
    "from sklearn.metrics import roc_curve, auc\n",
    "random_state = np.random.RandomState(0)\n",
    "import warnings\n",
    "warnings.filterwarnings('ignore')"
   ]
  },
  {
   "cell_type": "code",
   "execution_count": 45,
   "id": "347c9083",
   "metadata": {},
   "outputs": [],
   "source": [
    "df = read_csv(\"/Users/shyamgoyal/Desktop/UCI/Full Stack Data Scientist/pima-indians-diabetes.csv\")"
   ]
  },
  {
   "cell_type": "code",
   "execution_count": 46,
   "id": "91f185a6",
   "metadata": {},
   "outputs": [],
   "source": [
    "X = df.drop('class',axis=1)\n",
    "Y = df['class']"
   ]
  },
  {
   "cell_type": "code",
   "execution_count": 47,
   "id": "33915862",
   "metadata": {},
   "outputs": [],
   "source": [
    "X_train, X_test, y_train, y_test = train_test_split(X,Y,test_size=0.5,random_state=1)\n",
    "classifier1 = LogisticRegression()\n",
    "classifier2 = svm.SVC(kernel=\"linear\", probability=True)\n",
    "probas1_ = classifier1.fit(X_train, y_train).predict_proba(X_test)\n",
    "probas2_ = classifier2.fit(X_train, y_train).predict_proba(X_test)"
   ]
  },
  {
   "cell_type": "code",
   "execution_count": 48,
   "id": "de7cb850",
   "metadata": {},
   "outputs": [
    {
     "name": "stdout",
     "output_type": "stream",
     "text": [
      "Area under the ROc curve:0.830329\n"
     ]
    }
   ],
   "source": [
    "# Compute ROC curve and area the curve for logistic\n",
    "\n",
    "fpr1, tpr1, thresholds1 = roc_curve(y_test, probas1_[:,1])\n",
    "roc_auc1 = auc(fpr1, tpr1)\n",
    "print(\"Area under the ROc curve:%f\" % roc_auc1)"
   ]
  },
  {
   "cell_type": "code",
   "execution_count": 49,
   "id": "a4e26b47",
   "metadata": {},
   "outputs": [
    {
     "name": "stdout",
     "output_type": "stream",
     "text": [
      "Area under the ROc curve:0.836043\n"
     ]
    }
   ],
   "source": [
    "# Compute ROC curve and area the curve for logistic\n",
    "\n",
    "fpr2, tpr2, thresholds2 = roc_curve(y_test, probas2_[:,1])\n",
    "roc_auc2 = auc(fpr2, tpr2)\n",
    "print(\"Area under the ROc curve:%f\" % roc_auc2)"
   ]
  },
  {
   "cell_type": "code",
   "execution_count": 52,
   "id": "edfcf0dc",
   "metadata": {},
   "outputs": [
    {
     "data": {
      "image/png": "[encoded data removed]",
      "text/plain": [
       "<Figure size 432x288 with 1 Axes>"
      ]
     },
     "metadata": {
      "needs_background": "light"
     },
     "output_type": "display_data"
    }
   ],
   "source": [
    "# Plot the ROc\n",
    "\n",
    "# Plot ROC curve\n",
    "\n",
    "pl.clf()\n",
    "pl.plot(fpr1, tpr1, label = 'ROC curve for Logistic(area=%0.2f)' % roc_auc1)\n",
    "pl.plot(fpr2, tpr2, label = 'ROC curve for SVC(area=%0.2f)' % roc_auc2)\n",
    "pl.plot([0,1],[0,1], 'k--')\n",
    "pl.xlim([0.0,1.0])\n",
    "pl.ylim([0.0,1.0])\n",
    "pl.xlabel(\"False Positive Rate\")\n",
    "pl.ylabel(\"True Positive Rate\")\n",
    "pl.title('receive rating characteristic example')\n",
    "pl.legend(loc=\"lower right\")\n",
    "pl.show()\n"
   ]
  },
  {
   "cell_type": "code",
   "execution_count": null,
   "id": "1baf5ef5",
   "metadata": {},
   "outputs": [],
   "source": []
  },
  {
   "cell_type": "code",
   "execution_count": null,
   "id": "e798ab9c",
   "metadata": {},
   "outputs": [],
   "source": []
  },
  {
   "cell_type": "code",
   "execution_count": null,
   "id": "2ec16ecf",
   "metadata": {},
   "outputs": [],
   "source": []
  },
  {
   "cell_type": "code",
   "execution_count": null,
   "id": "41ebadaf",
   "metadata": {},
   "outputs": [],
   "source": []
  }
 ],
 "metadata": {
  "kernelspec": {
   "display_name": "Python 3 (ipykernel)",
   "language": "python",
   "name": "python3"
  },
  "language_info": {
   "codemirror_mode": {
    "name": "ipython",
    "version": 3
   },
   "file_extension": ".py",
   "mimetype": "text/x-python",
   "name": "python",
   "nbconvert_exporter": "python",
   "pygments_lexer": "ipython3",
   "version": "3.9.7"
  }
 },
 "nbformat": 4,
 "nbformat_minor": 5
}
